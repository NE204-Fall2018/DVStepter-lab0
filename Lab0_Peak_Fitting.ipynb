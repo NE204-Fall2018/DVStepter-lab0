{
 "cells": [
  {
   "cell_type": "code",
   "execution_count": 1,
   "metadata": {},
   "outputs": [],
   "source": [
    "import plotly\n",
    "plotly.tools.set_credentials_file(username='dvstepter', api_key='HVQiyi8nRb9XN5ZJW68N')"
   ]
  },
  {
   "cell_type": "code",
   "execution_count": 2,
   "metadata": {
    "collapsed": true
   },
   "outputs": [],
   "source": [
    "import plotly.plotly as py\n",
    "import plotly.graph_objs as go\n",
    "from plotly.tools import FigureFactory as FF\n",
    "from astropy.io import ascii\n",
    "\n",
    "import numpy as np\n",
    "import pandas as pd\n",
    "import scipy\n",
    "import peakutils"
   ]
  },
  {
   "cell_type": "code",
   "execution_count": 3,
   "metadata": {},
   "outputs": [
    {
     "name": "stdout",
     "output_type": "stream",
     "text": [
      "Am-241 Ba-133 Cs-137 Co-60 Eu-152\n",
      "------ ------ ------ ----- ------\n",
      "     0      0      0     0      0\n",
      "     0      0      0     0      0\n",
      "     0      0      0     0      0\n",
      "     0      0      0     0      0\n",
      "     0      0      0     0      0\n",
      "     0      0      0     0      0\n",
      "     0      0      0     0      0\n",
      "     0      0      0     0      0\n",
      "     0      0      0     0      0\n",
      "     0      0      0     0      0\n",
      "   ...    ...    ...   ...    ...\n",
      "     0      0      0     4      1\n",
      "     1      2      3     0      3\n",
      "     0      0      4     1      5\n",
      "     0      0      1     3      0\n",
      "     0      2      2     4      5\n",
      "     0      4      2     4      4\n",
      "     0      0      2     2      2\n",
      "     0      0      3     3      7\n",
      "     0      2      2     1      5\n",
      "     1      0      0     5      0\n",
      "     1      2      2     2      1\n",
      "Length = 8192 rows\n"
     ]
    }
   ],
   "source": [
    "spectra=ascii.read(\"lab0_spectral_data.txt\")\n",
    "print(spectra)"
   ]
  },
  {
   "cell_type": "code",
   "execution_count": 4,
   "metadata": {},
   "outputs": [
    {
     "name": "stderr",
     "output_type": "stream",
     "text": [
      "/Users/darrellstepter/anaconda3/lib/python3.6/site-packages/plotly/tools.py:1511: UserWarning:\n",
      "\n",
      "plotly.tools.FigureFactory.create_table is deprecated. Use plotly.figure_factory.create_table\n",
      "\n"
     ]
    },
    {
     "name": "stdout",
     "output_type": "stream",
     "text": [
      "High five! You successfully sent some data to your account on plotly. View your plot in your browser at https://plot.ly/~dvstepter/0 or inside your plot.ly account where it is named 'Spectra_Peak_Fitting'\n"
     ]
    },
    {
     "data": {
      "text/html": [
       "<iframe id=\"igraph\" scrolling=\"no\" style=\"border:none;\" seamless=\"seamless\" src=\"https://plot.ly/~dvstepter/0.embed\" height=\"470px\" width=\"100%\"></iframe>"
      ],
      "text/plain": [
       "<plotly.tools.PlotlyDisplay object>"
      ]
     },
     "execution_count": 4,
     "metadata": {},
     "output_type": "execute_result"
    }
   ],
   "source": [
    "pf = spectra[1:15]\n",
    "\n",
    "table = FF.create_table(pf)\n",
    "py.iplot(table, filename='Spectra_Peak_Fitting')"
   ]
  },
  {
   "cell_type": "code",
   "execution_count": 5,
   "metadata": {},
   "outputs": [],
   "source": [
    "plotly.tools?"
   ]
  },
  {
   "cell_type": "code",
   "execution_count": null,
   "metadata": {
    "collapsed": true
   },
   "outputs": [],
   "source": []
  }
 ],
 "metadata": {
  "kernelspec": {
   "display_name": "Python 3",
   "language": "python",
   "name": "python3"
  },
  "language_info": {
   "codemirror_mode": {
    "name": "ipython",
    "version": 3
   },
   "file_extension": ".py",
   "mimetype": "text/x-python",
   "name": "python",
   "nbconvert_exporter": "python",
   "pygments_lexer": "ipython3",
   "version": "3.6.2"
  }
 },
 "nbformat": 4,
 "nbformat_minor": 2
}
