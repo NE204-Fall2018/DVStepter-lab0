{
 "cells": [
  {
   "cell_type": "code",
   "execution_count": 1,
   "metadata": {
    "collapsed": true
   },
   "outputs": [],
   "source": [
    "from astropy.io import ascii\n",
    "import numpy as np\n",
    "import pandas as pd\n",
    "import scipy\n",
    "import matplotlib.pyplot as plt"
   ]
  },
  {
   "cell_type": "code",
   "execution_count": 6,
   "metadata": {},
   "outputs": [
    {
     "name": "stdout",
     "output_type": "stream",
     "text": [
      "Am-241 Ba-133 Cs-137 Co-60 Eu-152\n",
      "------ ------ ------ ----- ------\n",
      "     0      0      0     0      0\n",
      "     0      0      0     0      0\n",
      "     0      0      0     0      0\n",
      "     0      0      0     0      0\n",
      "     0      0      0     0      0\n",
      "     0      0      0     0      0\n",
      "     0      0      0     0      0\n",
      "     0      0      0     0      0\n",
      "     0      0      0     0      0\n",
      "     0      0      0     0      0\n",
      "   ...    ...    ...   ...    ...\n",
      "     0      0      0     4      1\n",
      "     1      2      3     0      3\n",
      "     0      0      4     1      5\n",
      "     0      0      1     3      0\n",
      "     0      2      2     4      5\n",
      "     0      4      2     4      4\n",
      "     0      0      2     2      2\n",
      "     0      0      3     3      7\n",
      "     0      2      2     1      5\n",
      "     1      0      0     5      0\n",
      "     1      2      2     2      1\n",
      "Length = 8192 rows\n"
     ]
    }
   ],
   "source": [
    "#reads/displays ascii formatted txt file and names the data \"spectra\"\n",
    "spectra=ascii.read(\"lab0_spectral_data.txt\")\n",
    "#print(spectra)"
   ]
  },
  {
   "cell_type": "code",
   "execution_count": 3,
   "metadata": {},
   "outputs": [
    {
     "data": {
      "image/png": "[encoded data removed]",
      "text/plain": [
       "<matplotlib.figure.Figure at 0x151b75a2b0>"
      ]
     },
     "metadata": {},
     "output_type": "display_data"
    }
   ],
   "source": [
    "plt.semilogy(spectra['Am-241'])\n",
    "plt.semilogy(spectra['Cs-137'])\n",
    "plt.title('$^{241}Am$ and $^{137}Cs$ Spectra by Channel')\n",
    "plt.xlabel('Channel')\n",
    "plt.ylabel('Counts')\n",
    "plt.legend()\n",
    "plt.savefig('images/SpecUncal')\n",
    "plt.show()"
   ]
  },
  {
   "cell_type": "code",
   "execution_count": 4,
   "metadata": {},
   "outputs": [],
   "source": [
    "#Peak finding script - from https://gist.github.com/endolith/250860\n",
    "import sys\n",
    "from numpy import NaN, Inf, arange, isscalar, asarray, array\n",
    "\n",
    "def peakdet(v, delta, x = None):\n",
    "    \"\"\"\n",
    "    Converted from MATLAB script at http://billauer.co.il/peakdet.html\n",
    "    \n",
    "    Returns two arrays\n",
    "    \n",
    "    function [maxtab, mintab]=peakdet(v, delta, x)\n",
    "    %PEAKDET Detect peaks in a vector\n",
    "    %        [MAXTAB, MINTAB] = PEAKDET(V, DELTA) finds the local\n",
    "    %        maxima and minima (\"peaks\") in the vector V.\n",
    "    %        MAXTAB and MINTAB consists of two columns. Column 1\n",
    "    %        contains indices in V, and column 2 the found values.\n",
    "    %      \n",
    "    %        With [MAXTAB, MINTAB] = PEAKDET(V, DELTA, X) the indices\n",
    "    %        in MAXTAB and MINTAB are replaced with the corresponding\n",
    "    %        X-values.\n",
    "    %\n",
    "    %        A point is considered a maximum peak if it has the maximal\n",
    "    %        value, and was preceded (to the left) by a value lower by\n",
    "    %        DELTA.\n",
    "    \n",
    "    % Eli Billauer, 3.4.05 (Explicitly not copyrighted).\n",
    "    % This function is released to the public domain; Any use is allowed.\n",
    "    \n",
    "    \"\"\"\n",
    "    maxtab = []\n",
    "    mintab = []\n",
    "       \n",
    "    if x is None:\n",
    "        x = arange(len(v))\n",
    "    \n",
    "    v = asarray(v)\n",
    "    \n",
    "    if len(v) != len(x):\n",
    "        sys.exit('Input vectors v and x must have same length')\n",
    "    \n",
    "    if not isscalar(delta):\n",
    "        sys.exit('Input argument delta must be a scalar')\n",
    "    \n",
    "    if delta <= 0:\n",
    "        sys.exit('Input argument delta must be positive')\n",
    "    \n",
    "    mn, mx = Inf, -Inf\n",
    "    mnpos, mxpos = NaN, NaN\n",
    "    \n",
    "    lookformax = True\n",
    "    \n",
    "    for i in arange(len(v)):\n",
    "        this = v[i]\n",
    "        if this > mx:\n",
    "            mx = this\n",
    "            mxpos = x[i]\n",
    "        if this < mn:\n",
    "            mn = this\n",
    "            mnpos = x[i]\n",
    "        \n",
    "        if lookformax:\n",
    "            if this < mx-delta:\n",
    "                maxtab.append((mxpos, mx))\n",
    "                mn = this\n",
    "                mnpos = x[i]\n",
    "                lookformax = False\n",
    "        else:\n",
    "            if this > mn+delta:\n",
    "                mintab.append((mnpos, mn))\n",
    "                mx = this\n",
    "                mxpos = x[i]\n",
    "                lookformax = True\n",
    "\n",
    "    return array(maxtab), array(mintab)"
   ]
  },
  {
   "cell_type": "code",
   "execution_count": 5,
   "metadata": {},
   "outputs": [
    {
     "data": {
      "image/png": "[encoded data removed]",
      "text/plain": [
       "<matplotlib.figure.Figure at 0x151b5e9828>"
      ]
     },
     "metadata": {},
     "output_type": "display_data"
    },
    {
     "name": "stdout",
     "output_type": "stream",
     "text": [
      "[[  208 39451]]\n",
      "[[ 2354 53433]]\n"
     ]
    }
   ],
   "source": [
    "#Finds and plots peaks for Cs-137 and Am-241\n",
    "AmPeak, mintab = peakdet(spectra['Am-241'],39000)\n",
    "CsPeak, mintab = peakdet(spectra['Cs-137'],39000)\n",
    "plt.semilogy(spectra['Am-241'])\n",
    "plt.semilogy(spectra['Cs-137'])\n",
    "plt.scatter(array(AmPeak)[:,0], array(AmPeak)[:,1], color='blue')\n",
    "plt.scatter(array(CsPeak)[:,0], array(CsPeak)[:,1], color='orange')\n",
    "plt.title('$^{241}Am$ and $^{137}Cs$ Identified Peaks by Channel')\n",
    "plt.xlabel('Channel')\n",
    "plt.ylabel('Counts')\n",
    "plt.legend()\n",
    "plt.savefig('images/Peaks')\n",
    "plt.show()\n",
    "print(AmPeak)\n",
    "print(CsPeak)"
   ]
  },
  {
   "cell_type": "code",
   "execution_count": null,
   "metadata": {},
   "outputs": [],
   "source": []
  }
 ],
 "metadata": {
  "kernelspec": {
   "display_name": "Python 3",
   "language": "python",
   "name": "python3"
  },
  "language_info": {
   "codemirror_mode": {
    "name": "ipython",
    "version": 3
   },
   "file_extension": ".py",
   "mimetype": "text/x-python",
   "name": "python",
   "nbconvert_exporter": "python",
   "pygments_lexer": "ipython3",
   "version": "3.6.2"
  }
 },
 "nbformat": 4,
 "nbformat_minor": 2
}
